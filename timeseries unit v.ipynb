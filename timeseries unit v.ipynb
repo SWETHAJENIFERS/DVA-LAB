{
 "cells": [
  {
   "cell_type": "markdown",
   "id": "9912bfc7",
   "metadata": {},
   "source": [
    "### 13-3-23"
   ]
  },
  {
   "cell_type": "markdown",
   "id": "610ea189",
   "metadata": {},
   "source": [
    "### Data and Time Data types and tools"
   ]
  },
  {
   "cell_type": "code",
   "execution_count": 1,
   "id": "e6f0687d",
   "metadata": {},
   "outputs": [
    {
     "data": {
      "text/plain": [
       "datetime.datetime(2023, 3, 27, 8, 41, 32, 170112)"
      ]
     },
     "execution_count": 1,
     "metadata": {},
     "output_type": "execute_result"
    }
   ],
   "source": [
    "from datetime import datetime\n",
    "now=datetime.now()\n",
    "now"
   ]
  },
  {
   "cell_type": "code",
   "execution_count": 2,
   "id": "5f71cb3e",
   "metadata": {},
   "outputs": [
    {
     "data": {
      "text/plain": [
       "(2023, 3, 27)"
      ]
     },
     "execution_count": 2,
     "metadata": {},
     "output_type": "execute_result"
    }
   ],
   "source": [
    "now.year,now.month,now.day"
   ]
  },
  {
   "cell_type": "code",
   "execution_count": 3,
   "id": "412fd210",
   "metadata": {},
   "outputs": [
    {
     "data": {
      "text/plain": [
       "datetime.timedelta(days=926, seconds=56700)"
      ]
     },
     "execution_count": 3,
     "metadata": {},
     "output_type": "execute_result"
    }
   ],
   "source": [
    "delta=datetime(2011,1,7)-datetime(2008,6,24,8,15)\n",
    "delta"
   ]
  },
  {
   "cell_type": "code",
   "execution_count": 4,
   "id": "35e2780e",
   "metadata": {},
   "outputs": [
    {
     "data": {
      "text/plain": [
       "926"
      ]
     },
     "execution_count": 4,
     "metadata": {},
     "output_type": "execute_result"
    }
   ],
   "source": [
    "delta.days"
   ]
  },
  {
   "cell_type": "code",
   "execution_count": 5,
   "id": "7f7a07b8",
   "metadata": {},
   "outputs": [
    {
     "data": {
      "text/plain": [
       "56700"
      ]
     },
     "execution_count": 5,
     "metadata": {},
     "output_type": "execute_result"
    }
   ],
   "source": [
    "delta.seconds"
   ]
  },
  {
   "cell_type": "code",
   "execution_count": 6,
   "id": "88c87e1a",
   "metadata": {},
   "outputs": [],
   "source": [
    "#delta.year..no"
   ]
  },
  {
   "cell_type": "code",
   "execution_count": 7,
   "id": "41a96d1c",
   "metadata": {},
   "outputs": [
    {
     "data": {
      "text/plain": [
       "datetime.datetime(2011, 1, 7, 0, 0)"
      ]
     },
     "execution_count": 7,
     "metadata": {},
     "output_type": "execute_result"
    }
   ],
   "source": [
    "from datetime import timedelta\n",
    "start=datetime(2011,1,7)\n",
    "start"
   ]
  },
  {
   "cell_type": "code",
   "execution_count": 8,
   "id": "4d26f803",
   "metadata": {},
   "outputs": [
    {
     "data": {
      "text/plain": [
       "datetime.datetime(2011, 1, 19, 0, 0)"
      ]
     },
     "execution_count": 8,
     "metadata": {},
     "output_type": "execute_result"
    }
   ],
   "source": [
    "start+timedelta(12)#timedelta-to arithmetic -time duration#addition(day)"
   ]
  },
  {
   "cell_type": "code",
   "execution_count": 9,
   "id": "062b1e97",
   "metadata": {},
   "outputs": [
    {
     "data": {
      "text/plain": [
       "datetime.datetime(2012, 1, 7, 0, 0)"
      ]
     },
     "execution_count": 9,
     "metadata": {},
     "output_type": "execute_result"
    }
   ],
   "source": [
    "start+timedelta(365)"
   ]
  },
  {
   "cell_type": "code",
   "execution_count": 10,
   "id": "5b57fee3",
   "metadata": {},
   "outputs": [
    {
     "data": {
      "text/plain": [
       "datetime.datetime(2010, 12, 14, 0, 0)"
      ]
     },
     "execution_count": 10,
     "metadata": {},
     "output_type": "execute_result"
    }
   ],
   "source": [
    "start-2*timedelta(12)"
   ]
  },
  {
   "cell_type": "markdown",
   "id": "046b91f4",
   "metadata": {},
   "source": [
    "### 14-3-23"
   ]
  },
  {
   "cell_type": "markdown",
   "id": "453e3212",
   "metadata": {},
   "source": [
    "### converting between string and datetime"
   ]
  },
  {
   "cell_type": "code",
   "execution_count": 11,
   "id": "79ecf3ea",
   "metadata": {},
   "outputs": [
    {
     "data": {
      "text/plain": [
       "'2011-01-03 00:00:00'"
      ]
     },
     "execution_count": 11,
     "metadata": {},
     "output_type": "execute_result"
    }
   ],
   "source": [
    "stamp=datetime(2011,1,3)\n",
    "str(stamp)"
   ]
  },
  {
   "cell_type": "code",
   "execution_count": 12,
   "id": "d40133cf",
   "metadata": {},
   "outputs": [
    {
     "data": {
      "text/plain": [
       "'2011-01-03'"
      ]
     },
     "execution_count": 12,
     "metadata": {},
     "output_type": "execute_result"
    }
   ],
   "source": [
    "stamp.strftime('%Y-%m-%d')"
   ]
  },
  {
   "cell_type": "code",
   "execution_count": 13,
   "id": "0f5cf16f",
   "metadata": {},
   "outputs": [
    {
     "data": {
      "text/plain": [
       "datetime.datetime(2011, 1, 3, 0, 0)"
      ]
     },
     "execution_count": 13,
     "metadata": {},
     "output_type": "execute_result"
    }
   ],
   "source": [
    "value='2011-01-03'\n",
    "datetime.strptime(value,'%Y-%m-%d')"
   ]
  },
  {
   "cell_type": "code",
   "execution_count": 14,
   "id": "5a61b395",
   "metadata": {},
   "outputs": [
    {
     "data": {
      "text/plain": [
       "[datetime.datetime(2011, 6, 7, 0, 0), datetime.datetime(2011, 6, 8, 0, 0)]"
      ]
     },
     "execution_count": 14,
     "metadata": {},
     "output_type": "execute_result"
    }
   ],
   "source": [
    "datestrs=['7/6/2011','8/6/2011']\n",
    "[datetime.strptime(x,'%d/%m/%Y')for x in datestrs]"
   ]
  },
  {
   "cell_type": "code",
   "execution_count": 15,
   "id": "3e41104e",
   "metadata": {},
   "outputs": [
    {
     "data": {
      "text/plain": [
       "datetime.datetime(2011, 1, 3, 0, 0)"
      ]
     },
     "execution_count": 15,
     "metadata": {},
     "output_type": "execute_result"
    }
   ],
   "source": [
    "from dateutil.parser import parse\n",
    "parse('2011-01-03')"
   ]
  },
  {
   "cell_type": "code",
   "execution_count": 16,
   "id": "60c4486f",
   "metadata": {},
   "outputs": [
    {
     "data": {
      "text/plain": [
       "datetime.datetime(2023, 1, 31, 22, 45)"
      ]
     },
     "execution_count": 16,
     "metadata": {},
     "output_type": "execute_result"
    }
   ],
   "source": [
    "parse('Jan 31,1997 10:45 PM')"
   ]
  },
  {
   "cell_type": "code",
   "execution_count": 17,
   "id": "f81fc0f1",
   "metadata": {},
   "outputs": [
    {
     "data": {
      "text/plain": [
       "datetime.datetime(2011, 12, 6, 0, 0)"
      ]
     },
     "execution_count": 17,
     "metadata": {},
     "output_type": "execute_result"
    }
   ],
   "source": [
    "parse('6/12/2011',dayfirst=True)"
   ]
  },
  {
   "cell_type": "code",
   "execution_count": 18,
   "id": "47b9c3cd",
   "metadata": {},
   "outputs": [],
   "source": [
    "import pandas as pd"
   ]
  },
  {
   "cell_type": "code",
   "execution_count": 19,
   "id": "e03ff4a4",
   "metadata": {},
   "outputs": [
    {
     "data": {
      "text/plain": [
       "DatetimeIndex(['2011-07-06 12:00:00', '2011-08-06 00:00:00'], dtype='datetime64[ns]', freq=None)"
      ]
     },
     "execution_count": 19,
     "metadata": {},
     "output_type": "execute_result"
    }
   ],
   "source": [
    "datestrs=['2011-07-06 12:00:00','2011-08-06 00:00:00']\n",
    "pd.to_datetime(datestrs)#by using to_datetime-index value"
   ]
  },
  {
   "cell_type": "code",
   "execution_count": 20,
   "id": "11cc8608",
   "metadata": {},
   "outputs": [
    {
     "data": {
      "text/plain": [
       "DatetimeIndex(['2011-07-06 12:00:00', '2011-08-06 00:00:00', 'NaT'], dtype='datetime64[ns]', freq=None)"
      ]
     },
     "execution_count": 20,
     "metadata": {},
     "output_type": "execute_result"
    }
   ],
   "source": [
    "idx=pd.to_datetime(datestrs + [None])\n",
    "idx"
   ]
  },
  {
   "cell_type": "code",
   "execution_count": 21,
   "id": "b39db2b8",
   "metadata": {},
   "outputs": [
    {
     "data": {
      "text/plain": [
       "NaT"
      ]
     },
     "execution_count": 21,
     "metadata": {},
     "output_type": "execute_result"
    }
   ],
   "source": [
    "idx[2]"
   ]
  },
  {
   "cell_type": "code",
   "execution_count": 22,
   "id": "40e67973",
   "metadata": {},
   "outputs": [
    {
     "data": {
      "text/plain": [
       "Timestamp('2011-08-06 00:00:00')"
      ]
     },
     "execution_count": 22,
     "metadata": {},
     "output_type": "execute_result"
    }
   ],
   "source": [
    "idx[1]"
   ]
  },
  {
   "cell_type": "markdown",
   "id": "d040de9c",
   "metadata": {},
   "source": [
    "### time series basics"
   ]
  },
  {
   "cell_type": "code",
   "execution_count": 23,
   "id": "9a7d4fe0",
   "metadata": {},
   "outputs": [
    {
     "data": {
      "text/plain": [
       "array([False, False,  True])"
      ]
     },
     "execution_count": 23,
     "metadata": {},
     "output_type": "execute_result"
    }
   ],
   "source": [
    "pd.isnull(idx)"
   ]
  },
  {
   "cell_type": "code",
   "execution_count": 24,
   "id": "513551a4",
   "metadata": {},
   "outputs": [],
   "source": [
    "import numpy as np"
   ]
  },
  {
   "cell_type": "code",
   "execution_count": 25,
   "id": "f990c3f7",
   "metadata": {
    "scrolled": true
   },
   "outputs": [
    {
     "data": {
      "text/plain": [
       "2011-01-02    0.793502\n",
       "2011-01-05   -0.954434\n",
       "2011-01-07   -0.544844\n",
       "2011-01-08   -0.844881\n",
       "2011-01-10    1.042337\n",
       "2011-01-12    0.358457\n",
       "dtype: float64"
      ]
     },
     "execution_count": 25,
     "metadata": {},
     "output_type": "execute_result"
    }
   ],
   "source": [
    "from datetime import datetime\n",
    "dates=[datetime(2011,1,2),datetime(2011,1,5),\n",
    "      datetime(2011,1,7),datetime(2011,1,8),\n",
    "      datetime(2011,1,10),datetime(2011,1,12)]\n",
    "ts=pd.Series(np.random.randn(6),index=dates)\n",
    "ts#dtype shown in o/p --value's dtype=float"
   ]
  },
  {
   "cell_type": "code",
   "execution_count": 26,
   "id": "9bd77673",
   "metadata": {},
   "outputs": [
    {
     "data": {
      "text/plain": [
       "DatetimeIndex(['2011-01-02', '2011-01-05', '2011-01-07', '2011-01-08',\n",
       "               '2011-01-10', '2011-01-12'],\n",
       "              dtype='datetime64[ns]', freq=None)"
      ]
     },
     "execution_count": 26,
     "metadata": {},
     "output_type": "execute_result"
    }
   ],
   "source": [
    "ts.index"
   ]
  },
  {
   "cell_type": "code",
   "execution_count": 27,
   "id": "38a5e3bd",
   "metadata": {
    "scrolled": true
   },
   "outputs": [
    {
     "data": {
      "text/plain": [
       "2011-01-02    1.587004\n",
       "2011-01-05         NaN\n",
       "2011-01-07   -1.089689\n",
       "2011-01-08         NaN\n",
       "2011-01-10    2.084674\n",
       "2011-01-12         NaN\n",
       "dtype: float64"
      ]
     },
     "execution_count": 27,
     "metadata": {},
     "output_type": "execute_result"
    }
   ],
   "source": [
    "ts+ts[::2]"
   ]
  },
  {
   "cell_type": "code",
   "execution_count": 28,
   "id": "5fcb396f",
   "metadata": {},
   "outputs": [
    {
     "data": {
      "text/plain": [
       "2011-01-02    1.587004\n",
       "2011-01-05         NaN\n",
       "2011-01-07         NaN\n",
       "2011-01-08   -1.689762\n",
       "2011-01-10         NaN\n",
       "2011-01-12         NaN\n",
       "dtype: float64"
      ]
     },
     "execution_count": 28,
     "metadata": {},
     "output_type": "execute_result"
    }
   ],
   "source": [
    "ts+ts[::3]"
   ]
  },
  {
   "cell_type": "code",
   "execution_count": 29,
   "id": "c1370c1c",
   "metadata": {},
   "outputs": [
    {
     "data": {
      "text/plain": [
       "dtype('<M8[ns]')"
      ]
     },
     "execution_count": 29,
     "metadata": {},
     "output_type": "execute_result"
    }
   ],
   "source": [
    "ts.index.dtype#M8-month-2-year-4-date-2"
   ]
  },
  {
   "cell_type": "code",
   "execution_count": 30,
   "id": "f7241116",
   "metadata": {},
   "outputs": [
    {
     "data": {
      "text/plain": [
       "Timestamp('2011-01-02 00:00:00')"
      ]
     },
     "execution_count": 30,
     "metadata": {},
     "output_type": "execute_result"
    }
   ],
   "source": [
    "stamp=ts.index[0]\n",
    "stamp"
   ]
  },
  {
   "cell_type": "markdown",
   "id": "9e3be53d",
   "metadata": {},
   "source": [
    "#### 15-03-23"
   ]
  },
  {
   "cell_type": "code",
   "execution_count": 31,
   "id": "f2a63251",
   "metadata": {},
   "outputs": [],
   "source": [
    "#Indexing, selection ,subsetting"
   ]
  },
  {
   "cell_type": "code",
   "execution_count": 32,
   "id": "5e0497c6",
   "metadata": {},
   "outputs": [
    {
     "data": {
      "text/plain": [
       "Timestamp('2011-01-07 00:00:00')"
      ]
     },
     "execution_count": 32,
     "metadata": {},
     "output_type": "execute_result"
    }
   ],
   "source": [
    "stamp=ts.index[2]\n",
    "stamp"
   ]
  },
  {
   "cell_type": "code",
   "execution_count": 33,
   "id": "81479f68",
   "metadata": {},
   "outputs": [
    {
     "data": {
      "text/plain": [
       "2011-01-02    0.793502\n",
       "2011-01-05   -0.954434\n",
       "2011-01-07   -0.544844\n",
       "2011-01-08   -0.844881\n",
       "2011-01-10    1.042337\n",
       "2011-01-12    0.358457\n",
       "dtype: float64"
      ]
     },
     "execution_count": 33,
     "metadata": {},
     "output_type": "execute_result"
    }
   ],
   "source": [
    "ts"
   ]
  },
  {
   "cell_type": "code",
   "execution_count": 34,
   "id": "233c6124",
   "metadata": {},
   "outputs": [
    {
     "data": {
      "text/plain": [
       "-0.544844279380988"
      ]
     },
     "execution_count": 34,
     "metadata": {},
     "output_type": "execute_result"
    }
   ],
   "source": [
    "ts[stamp]#acsessing index"
   ]
  },
  {
   "cell_type": "code",
   "execution_count": 35,
   "id": "8248d986",
   "metadata": {},
   "outputs": [
    {
     "data": {
      "text/plain": [
       "1.0423370799232121"
      ]
     },
     "execution_count": 35,
     "metadata": {},
     "output_type": "execute_result"
    }
   ],
   "source": [
    "ts['1/10/2011']#general format"
   ]
  },
  {
   "cell_type": "code",
   "execution_count": 36,
   "id": "001c3fc6",
   "metadata": {},
   "outputs": [
    {
     "data": {
      "text/plain": [
       "1.0423370799232121"
      ]
     },
     "execution_count": 36,
     "metadata": {},
     "output_type": "execute_result"
    }
   ],
   "source": [
    "ts['20110110']#index value"
   ]
  },
  {
   "cell_type": "code",
   "execution_count": 37,
   "id": "e5bb4532",
   "metadata": {},
   "outputs": [
    {
     "data": {
      "text/plain": [
       "2000-01-01    0.270093\n",
       "2000-01-02    0.488130\n",
       "2000-01-03    2.010223\n",
       "2000-01-04    0.045597\n",
       "2000-01-05   -0.341591\n",
       "                ...   \n",
       "2002-09-22   -1.396781\n",
       "2002-09-23    0.982220\n",
       "2002-09-24    0.405584\n",
       "2002-09-25   -0.429544\n",
       "2002-09-26    0.331407\n",
       "Freq: D, Length: 1000, dtype: float64"
      ]
     },
     "execution_count": 37,
     "metadata": {},
     "output_type": "execute_result"
    }
   ],
   "source": [
    "longer_ts=pd.Series(np.random.randn(1000),\n",
    "                   index=pd.date_range('1/1/2000',periods=1000))#index we can use date range\n",
    "longer_ts"
   ]
  },
  {
   "cell_type": "code",
   "execution_count": 38,
   "id": "4146c819",
   "metadata": {},
   "outputs": [
    {
     "data": {
      "text/plain": [
       "2001-01-01   -0.238620\n",
       "2001-01-02   -0.139822\n",
       "2001-01-03   -0.312881\n",
       "2001-01-04    0.121903\n",
       "2001-01-05    0.857863\n",
       "                ...   \n",
       "2001-12-27    1.687924\n",
       "2001-12-28   -0.581474\n",
       "2001-12-29   -0.939526\n",
       "2001-12-30    0.582080\n",
       "2001-12-31    0.004745\n",
       "Freq: D, Length: 365, dtype: float64"
      ]
     },
     "execution_count": 38,
     "metadata": {},
     "output_type": "execute_result"
    }
   ],
   "source": [
    "longer_ts['2001']"
   ]
  },
  {
   "cell_type": "code",
   "execution_count": 39,
   "id": "8da8e62b",
   "metadata": {},
   "outputs": [
    {
     "data": {
      "text/plain": [
       "2001-05-01   -2.003165\n",
       "2001-05-02   -0.679508\n",
       "2001-05-03   -0.321748\n",
       "2001-05-04   -0.567591\n",
       "2001-05-05    0.595225\n",
       "2001-05-06   -1.982825\n",
       "2001-05-07    0.396892\n",
       "2001-05-08   -0.189151\n",
       "2001-05-09    0.263217\n",
       "2001-05-10    0.160853\n",
       "2001-05-11    0.063736\n",
       "2001-05-12    0.025011\n",
       "2001-05-13    0.399734\n",
       "2001-05-14    1.028459\n",
       "2001-05-15    0.307356\n",
       "2001-05-16   -1.195228\n",
       "2001-05-17   -0.513962\n",
       "2001-05-18    0.582629\n",
       "2001-05-19   -3.657035\n",
       "2001-05-20    0.851044\n",
       "2001-05-21   -1.889878\n",
       "2001-05-22   -1.356130\n",
       "2001-05-23   -1.394418\n",
       "2001-05-24   -2.029281\n",
       "2001-05-25   -0.127307\n",
       "2001-05-26   -1.415306\n",
       "2001-05-27    0.225425\n",
       "2001-05-28   -0.388679\n",
       "2001-05-29    0.779283\n",
       "2001-05-30    0.323646\n",
       "2001-05-31   -0.309480\n",
       "Freq: D, dtype: float64"
      ]
     },
     "execution_count": 39,
     "metadata": {},
     "output_type": "execute_result"
    }
   ],
   "source": [
    "longer_ts['2001-05']"
   ]
  },
  {
   "cell_type": "code",
   "execution_count": 40,
   "id": "ce04dd26",
   "metadata": {},
   "outputs": [
    {
     "data": {
      "text/plain": [
       "2011-01-07   -0.544844\n",
       "2011-01-08   -0.844881\n",
       "2011-01-10    1.042337\n",
       "2011-01-12    0.358457\n",
       "dtype: float64"
      ]
     },
     "execution_count": 40,
     "metadata": {},
     "output_type": "execute_result"
    }
   ],
   "source": [
    "ts[datetime(2011,1,7):]"
   ]
  },
  {
   "cell_type": "code",
   "execution_count": 41,
   "id": "1cdddd8f",
   "metadata": {},
   "outputs": [
    {
     "data": {
      "text/plain": [
       "2011-01-02    0.793502\n",
       "2011-01-05   -0.954434\n",
       "2011-01-07   -0.544844\n",
       "2011-01-08   -0.844881\n",
       "2011-01-10    1.042337\n",
       "2011-01-12    0.358457\n",
       "dtype: float64"
      ]
     },
     "execution_count": 41,
     "metadata": {},
     "output_type": "execute_result"
    }
   ],
   "source": [
    "ts"
   ]
  },
  {
   "cell_type": "code",
   "execution_count": 42,
   "id": "41fb9710",
   "metadata": {},
   "outputs": [
    {
     "data": {
      "text/plain": [
       "2011-01-07   -0.544844\n",
       "2011-01-08   -0.844881\n",
       "2011-01-10    1.042337\n",
       "dtype: float64"
      ]
     },
     "execution_count": 42,
     "metadata": {},
     "output_type": "execute_result"
    }
   ],
   "source": [
    "ts['1/6/2011':'1/11/2011']"
   ]
  },
  {
   "cell_type": "code",
   "execution_count": 43,
   "id": "d68ea5b6",
   "metadata": {},
   "outputs": [
    {
     "data": {
      "text/plain": [
       "2011-01-02    0.793502\n",
       "2011-01-05   -0.954434\n",
       "2011-01-07   -0.544844\n",
       "2011-01-08   -0.844881\n",
       "dtype: float64"
      ]
     },
     "execution_count": 43,
     "metadata": {},
     "output_type": "execute_result"
    }
   ],
   "source": [
    "ts.truncate(after='1/9/2011')#by using after"
   ]
  },
  {
   "cell_type": "code",
   "execution_count": 44,
   "id": "41fe8054",
   "metadata": {
    "scrolled": false
   },
   "outputs": [
    {
     "data": {
      "text/html": [
       "<div>\n",
       "<style scoped>\n",
       "    .dataframe tbody tr th:only-of-type {\n",
       "        vertical-align: middle;\n",
       "    }\n",
       "\n",
       "    .dataframe tbody tr th {\n",
       "        vertical-align: top;\n",
       "    }\n",
       "\n",
       "    .dataframe thead th {\n",
       "        text-align: right;\n",
       "    }\n",
       "</style>\n",
       "<table border=\"1\" class=\"dataframe\">\n",
       "  <thead>\n",
       "    <tr style=\"text-align: right;\">\n",
       "      <th></th>\n",
       "      <th>Colorado</th>\n",
       "      <th>Texas</th>\n",
       "      <th>New York</th>\n",
       "      <th>Ohio</th>\n",
       "    </tr>\n",
       "  </thead>\n",
       "  <tbody>\n",
       "    <tr>\n",
       "      <th>2000-01-05</th>\n",
       "      <td>-1.705098</td>\n",
       "      <td>0.224292</td>\n",
       "      <td>-0.441266</td>\n",
       "      <td>0.209610</td>\n",
       "    </tr>\n",
       "    <tr>\n",
       "      <th>2000-01-12</th>\n",
       "      <td>1.746668</td>\n",
       "      <td>2.003486</td>\n",
       "      <td>0.537893</td>\n",
       "      <td>0.611706</td>\n",
       "    </tr>\n",
       "    <tr>\n",
       "      <th>2000-01-19</th>\n",
       "      <td>-0.737229</td>\n",
       "      <td>-0.367443</td>\n",
       "      <td>1.999454</td>\n",
       "      <td>1.287800</td>\n",
       "    </tr>\n",
       "    <tr>\n",
       "      <th>2000-01-26</th>\n",
       "      <td>0.596994</td>\n",
       "      <td>0.350866</td>\n",
       "      <td>-1.040507</td>\n",
       "      <td>-0.269595</td>\n",
       "    </tr>\n",
       "    <tr>\n",
       "      <th>2000-02-02</th>\n",
       "      <td>-1.501773</td>\n",
       "      <td>-0.395946</td>\n",
       "      <td>0.480806</td>\n",
       "      <td>-1.230430</td>\n",
       "    </tr>\n",
       "    <tr>\n",
       "      <th>...</th>\n",
       "      <td>...</td>\n",
       "      <td>...</td>\n",
       "      <td>...</td>\n",
       "      <td>...</td>\n",
       "    </tr>\n",
       "    <tr>\n",
       "      <th>2001-10-31</th>\n",
       "      <td>2.564152</td>\n",
       "      <td>-1.214370</td>\n",
       "      <td>-0.651603</td>\n",
       "      <td>0.352909</td>\n",
       "    </tr>\n",
       "    <tr>\n",
       "      <th>2001-11-07</th>\n",
       "      <td>-1.207537</td>\n",
       "      <td>0.096350</td>\n",
       "      <td>-0.240431</td>\n",
       "      <td>0.954215</td>\n",
       "    </tr>\n",
       "    <tr>\n",
       "      <th>2001-11-14</th>\n",
       "      <td>1.280567</td>\n",
       "      <td>1.287671</td>\n",
       "      <td>0.127358</td>\n",
       "      <td>0.192321</td>\n",
       "    </tr>\n",
       "    <tr>\n",
       "      <th>2001-11-21</th>\n",
       "      <td>0.356030</td>\n",
       "      <td>-1.441897</td>\n",
       "      <td>-0.754843</td>\n",
       "      <td>-2.284983</td>\n",
       "    </tr>\n",
       "    <tr>\n",
       "      <th>2001-11-28</th>\n",
       "      <td>-1.246459</td>\n",
       "      <td>-1.344925</td>\n",
       "      <td>-0.482537</td>\n",
       "      <td>-1.635502</td>\n",
       "    </tr>\n",
       "  </tbody>\n",
       "</table>\n",
       "<p>100 rows × 4 columns</p>\n",
       "</div>"
      ],
      "text/plain": [
       "            Colorado     Texas  New York      Ohio\n",
       "2000-01-05 -1.705098  0.224292 -0.441266  0.209610\n",
       "2000-01-12  1.746668  2.003486  0.537893  0.611706\n",
       "2000-01-19 -0.737229 -0.367443  1.999454  1.287800\n",
       "2000-01-26  0.596994  0.350866 -1.040507 -0.269595\n",
       "2000-02-02 -1.501773 -0.395946  0.480806 -1.230430\n",
       "...              ...       ...       ...       ...\n",
       "2001-10-31  2.564152 -1.214370 -0.651603  0.352909\n",
       "2001-11-07 -1.207537  0.096350 -0.240431  0.954215\n",
       "2001-11-14  1.280567  1.287671  0.127358  0.192321\n",
       "2001-11-21  0.356030 -1.441897 -0.754843 -2.284983\n",
       "2001-11-28 -1.246459 -1.344925 -0.482537 -1.635502\n",
       "\n",
       "[100 rows x 4 columns]"
      ]
     },
     "execution_count": 44,
     "metadata": {},
     "output_type": "execute_result"
    }
   ],
   "source": [
    "dates=pd.date_range('1/1/2000',periods=100,freq='W-WED')\n",
    "long_df=pd.DataFrame(np.random.randn(100,4),\n",
    "                    index=dates,\n",
    "                    columns=['Colorado','Texas',\n",
    "                            'New York','Ohio'])\n",
    "long_df"
   ]
  },
  {
   "cell_type": "code",
   "execution_count": 45,
   "id": "a995a149",
   "metadata": {},
   "outputs": [
    {
     "data": {
      "text/html": [
       "<div>\n",
       "<style scoped>\n",
       "    .dataframe tbody tr th:only-of-type {\n",
       "        vertical-align: middle;\n",
       "    }\n",
       "\n",
       "    .dataframe tbody tr th {\n",
       "        vertical-align: top;\n",
       "    }\n",
       "\n",
       "    .dataframe thead th {\n",
       "        text-align: right;\n",
       "    }\n",
       "</style>\n",
       "<table border=\"1\" class=\"dataframe\">\n",
       "  <thead>\n",
       "    <tr style=\"text-align: right;\">\n",
       "      <th></th>\n",
       "      <th>Colorado</th>\n",
       "      <th>Texas</th>\n",
       "      <th>New York</th>\n",
       "      <th>Ohio</th>\n",
       "    </tr>\n",
       "  </thead>\n",
       "  <tbody>\n",
       "    <tr>\n",
       "      <th>2001-05-02</th>\n",
       "      <td>0.715947</td>\n",
       "      <td>1.211670</td>\n",
       "      <td>2.320978</td>\n",
       "      <td>0.395106</td>\n",
       "    </tr>\n",
       "    <tr>\n",
       "      <th>2001-05-09</th>\n",
       "      <td>-0.840620</td>\n",
       "      <td>0.838495</td>\n",
       "      <td>1.227166</td>\n",
       "      <td>0.993026</td>\n",
       "    </tr>\n",
       "    <tr>\n",
       "      <th>2001-05-16</th>\n",
       "      <td>-1.448065</td>\n",
       "      <td>-0.800437</td>\n",
       "      <td>0.584098</td>\n",
       "      <td>0.683026</td>\n",
       "    </tr>\n",
       "    <tr>\n",
       "      <th>2001-05-23</th>\n",
       "      <td>1.702759</td>\n",
       "      <td>-1.644533</td>\n",
       "      <td>0.414367</td>\n",
       "      <td>0.728291</td>\n",
       "    </tr>\n",
       "    <tr>\n",
       "      <th>2001-05-30</th>\n",
       "      <td>-0.561333</td>\n",
       "      <td>0.748770</td>\n",
       "      <td>-0.242857</td>\n",
       "      <td>0.990834</td>\n",
       "    </tr>\n",
       "  </tbody>\n",
       "</table>\n",
       "</div>"
      ],
      "text/plain": [
       "            Colorado     Texas  New York      Ohio\n",
       "2001-05-02  0.715947  1.211670  2.320978  0.395106\n",
       "2001-05-09 -0.840620  0.838495  1.227166  0.993026\n",
       "2001-05-16 -1.448065 -0.800437  0.584098  0.683026\n",
       "2001-05-23  1.702759 -1.644533  0.414367  0.728291\n",
       "2001-05-30 -0.561333  0.748770 -0.242857  0.990834"
      ]
     },
     "execution_count": 45,
     "metadata": {},
     "output_type": "execute_result"
    }
   ],
   "source": [
    "long_df.loc['5-2001']#location"
   ]
  },
  {
   "cell_type": "code",
   "execution_count": 46,
   "id": "a50a81a0",
   "metadata": {},
   "outputs": [
    {
     "data": {
      "text/html": [
       "<div>\n",
       "<style scoped>\n",
       "    .dataframe tbody tr th:only-of-type {\n",
       "        vertical-align: middle;\n",
       "    }\n",
       "\n",
       "    .dataframe tbody tr th {\n",
       "        vertical-align: top;\n",
       "    }\n",
       "\n",
       "    .dataframe thead th {\n",
       "        text-align: right;\n",
       "    }\n",
       "</style>\n",
       "<table border=\"1\" class=\"dataframe\">\n",
       "  <thead>\n",
       "    <tr style=\"text-align: right;\">\n",
       "      <th></th>\n",
       "      <th>Colorado</th>\n",
       "      <th>Texas</th>\n",
       "      <th>New York</th>\n",
       "      <th>Ohio</th>\n",
       "    </tr>\n",
       "  </thead>\n",
       "  <tbody>\n",
       "    <tr>\n",
       "      <th>2001-06-06</th>\n",
       "      <td>-0.154257</td>\n",
       "      <td>-0.448150</td>\n",
       "      <td>1.056108</td>\n",
       "      <td>0.662944</td>\n",
       "    </tr>\n",
       "    <tr>\n",
       "      <th>2001-06-13</th>\n",
       "      <td>1.445079</td>\n",
       "      <td>-1.012446</td>\n",
       "      <td>-1.167673</td>\n",
       "      <td>0.878334</td>\n",
       "    </tr>\n",
       "    <tr>\n",
       "      <th>2001-06-20</th>\n",
       "      <td>-0.111817</td>\n",
       "      <td>1.928902</td>\n",
       "      <td>-0.888660</td>\n",
       "      <td>0.143450</td>\n",
       "    </tr>\n",
       "    <tr>\n",
       "      <th>2001-06-27</th>\n",
       "      <td>-0.647512</td>\n",
       "      <td>0.190393</td>\n",
       "      <td>0.501730</td>\n",
       "      <td>0.186763</td>\n",
       "    </tr>\n",
       "  </tbody>\n",
       "</table>\n",
       "</div>"
      ],
      "text/plain": [
       "            Colorado     Texas  New York      Ohio\n",
       "2001-06-06 -0.154257 -0.448150  1.056108  0.662944\n",
       "2001-06-13  1.445079 -1.012446 -1.167673  0.878334\n",
       "2001-06-20 -0.111817  1.928902 -0.888660  0.143450\n",
       "2001-06-27 -0.647512  0.190393  0.501730  0.186763"
      ]
     },
     "execution_count": 46,
     "metadata": {},
     "output_type": "execute_result"
    }
   ],
   "source": [
    "long_df.loc['6-2001']"
   ]
  },
  {
   "cell_type": "markdown",
   "id": "fa041f69",
   "metadata": {},
   "source": [
    "#### 16-3-23"
   ]
  },
  {
   "cell_type": "markdown",
   "id": "201d5b7a",
   "metadata": {},
   "source": [
    "### time series with duplicate indices"
   ]
  },
  {
   "cell_type": "code",
   "execution_count": 47,
   "id": "cbf16130",
   "metadata": {},
   "outputs": [
    {
     "data": {
      "text/plain": [
       "2000-01-01    0\n",
       "2000-01-02    1\n",
       "2000-01-02    2\n",
       "2000-01-02    3\n",
       "2000-01-03    4\n",
       "dtype: int32"
      ]
     },
     "execution_count": 47,
     "metadata": {},
     "output_type": "execute_result"
    }
   ],
   "source": [
    "dates=pd.DatetimeIndex(['1/1/2000','1/2/2000','1/2/2000',#in timeseries can be duplicate\n",
    "                        '1/2/2000','1/3/2000'])\n",
    "dup_ts=pd.Series(np.arange(5),index=dates)\n",
    "dup_ts"
   ]
  },
  {
   "cell_type": "code",
   "execution_count": 48,
   "id": "2651d917",
   "metadata": {},
   "outputs": [
    {
     "data": {
      "text/plain": [
       "False"
      ]
     },
     "execution_count": 48,
     "metadata": {},
     "output_type": "execute_result"
    }
   ],
   "source": [
    "dup_ts.index.is_unique#checking whether index is (unique)#duplicate"
   ]
  },
  {
   "cell_type": "code",
   "execution_count": 49,
   "id": "9902f3e1",
   "metadata": {},
   "outputs": [
    {
     "data": {
      "text/plain": [
       "4"
      ]
     },
     "execution_count": 49,
     "metadata": {},
     "output_type": "execute_result"
    }
   ],
   "source": [
    "dup_ts['1/3/2000']#not duplicated"
   ]
  },
  {
   "cell_type": "code",
   "execution_count": 50,
   "id": "ebe7f657",
   "metadata": {},
   "outputs": [
    {
     "data": {
      "text/plain": [
       "2000-01-02    1\n",
       "2000-01-02    2\n",
       "2000-01-02    3\n",
       "dtype: int32"
      ]
     },
     "execution_count": 50,
     "metadata": {},
     "output_type": "execute_result"
    }
   ],
   "source": [
    "dup_ts['1/2/2000']#duplicated"
   ]
  },
  {
   "cell_type": "code",
   "execution_count": 51,
   "id": "e99586b8",
   "metadata": {},
   "outputs": [
    {
     "data": {
      "text/plain": [
       "0"
      ]
     },
     "execution_count": 51,
     "metadata": {},
     "output_type": "execute_result"
    }
   ],
   "source": [
    "dup_ts['1/1/2000']#not duplicated"
   ]
  },
  {
   "cell_type": "code",
   "execution_count": 52,
   "id": "71494007",
   "metadata": {},
   "outputs": [
    {
     "data": {
      "text/plain": [
       "2000-01-01    0.0\n",
       "2000-01-02    2.0\n",
       "2000-01-03    4.0\n",
       "dtype: float64"
      ]
     },
     "execution_count": 52,
     "metadata": {},
     "output_type": "execute_result"
    }
   ],
   "source": [
    "grouped=dup_ts.groupby(level=0)\n",
    "grouped.mean()"
   ]
  },
  {
   "cell_type": "code",
   "execution_count": 53,
   "id": "2359d7fa",
   "metadata": {},
   "outputs": [
    {
     "data": {
      "text/plain": [
       "2000-01-01    1\n",
       "2000-01-02    3\n",
       "2000-01-03    1\n",
       "dtype: int64"
      ]
     },
     "execution_count": 53,
     "metadata": {},
     "output_type": "execute_result"
    }
   ],
   "source": [
    "grouped.count()"
   ]
  },
  {
   "cell_type": "markdown",
   "id": "3f30f648",
   "metadata": {},
   "source": [
    "### **date ranges,frequencies and shifting"
   ]
  },
  {
   "cell_type": "code",
   "execution_count": 54,
   "id": "b3d609e1",
   "metadata": {},
   "outputs": [
    {
     "data": {
      "text/plain": [
       "2011-01-02    0.793502\n",
       "2011-01-05   -0.954434\n",
       "2011-01-07   -0.544844\n",
       "2011-01-08   -0.844881\n",
       "2011-01-10    1.042337\n",
       "2011-01-12    0.358457\n",
       "dtype: float64"
      ]
     },
     "execution_count": 54,
     "metadata": {},
     "output_type": "execute_result"
    }
   ],
   "source": [
    "ts"
   ]
  },
  {
   "cell_type": "code",
   "execution_count": 55,
   "id": "5bd3c12d",
   "metadata": {},
   "outputs": [
    {
     "data": {
      "text/plain": [
       "2011-01-02    1\n",
       "2011-01-03    0\n",
       "2011-01-04    0\n",
       "2011-01-05    1\n",
       "2011-01-06    0\n",
       "2011-01-07    1\n",
       "2011-01-08    1\n",
       "2011-01-09    0\n",
       "2011-01-10    1\n",
       "2011-01-11    0\n",
       "2011-01-12    1\n",
       "Freq: D, dtype: int64"
      ]
     },
     "execution_count": 55,
     "metadata": {},
     "output_type": "execute_result"
    }
   ],
   "source": [
    "resampler=ts.resample('D').count()#resampler---groupby operation-by month year day\n",
    "resampler"
   ]
  },
  {
   "cell_type": "code",
   "execution_count": 56,
   "id": "e77b7141",
   "metadata": {},
   "outputs": [
    {
     "data": {
      "text/plain": [
       "2011-01-31    6\n",
       "Freq: M, dtype: int64"
      ]
     },
     "execution_count": 56,
     "metadata": {},
     "output_type": "execute_result"
    }
   ],
   "source": [
    "resampler=ts.resample('M').count()\n",
    "resampler"
   ]
  },
  {
   "cell_type": "code",
   "execution_count": 57,
   "id": "dcc0794a",
   "metadata": {},
   "outputs": [
    {
     "data": {
      "text/plain": [
       "2011-12-31    6\n",
       "Freq: A-DEC, dtype: int64"
      ]
     },
     "execution_count": 57,
     "metadata": {},
     "output_type": "execute_result"
    }
   ],
   "source": [
    "resampler=ts.resample('Y').count()\n",
    "resampler"
   ]
  },
  {
   "cell_type": "markdown",
   "id": "507dafca",
   "metadata": {},
   "source": [
    "#### **Generating Date Ranges"
   ]
  },
  {
   "cell_type": "code",
   "execution_count": 58,
   "id": "f99fe783",
   "metadata": {},
   "outputs": [
    {
     "data": {
      "text/plain": [
       "DatetimeIndex(['2012-04-01', '2012-04-02', '2012-04-03', '2012-04-04',\n",
       "               '2012-04-05', '2012-04-06', '2012-04-07', '2012-04-08',\n",
       "               '2012-04-09', '2012-04-10', '2012-04-11', '2012-04-12',\n",
       "               '2012-04-13', '2012-04-14', '2012-04-15', '2012-04-16',\n",
       "               '2012-04-17', '2012-04-18', '2012-04-19', '2012-04-20',\n",
       "               '2012-04-21', '2012-04-22', '2012-04-23', '2012-04-24',\n",
       "               '2012-04-25', '2012-04-26', '2012-04-27', '2012-04-28',\n",
       "               '2012-04-29', '2012-04-30', '2012-05-01', '2012-05-02',\n",
       "               '2012-05-03', '2012-05-04', '2012-05-05', '2012-05-06',\n",
       "               '2012-05-07', '2012-05-08', '2012-05-09', '2012-05-10',\n",
       "               '2012-05-11', '2012-05-12', '2012-05-13', '2012-05-14',\n",
       "               '2012-05-15', '2012-05-16', '2012-05-17', '2012-05-18',\n",
       "               '2012-05-19', '2012-05-20', '2012-05-21', '2012-05-22',\n",
       "               '2012-05-23', '2012-05-24', '2012-05-25', '2012-05-26',\n",
       "               '2012-05-27', '2012-05-28', '2012-05-29', '2012-05-30',\n",
       "               '2012-05-31', '2012-06-01'],\n",
       "              dtype='datetime64[ns]', freq='D')"
      ]
     },
     "execution_count": 58,
     "metadata": {},
     "output_type": "execute_result"
    }
   ],
   "source": [
    "index=pd.date_range('2012-04-01','2012-06-01')\n",
    "index"
   ]
  },
  {
   "cell_type": "code",
   "execution_count": 59,
   "id": "f2200091",
   "metadata": {
    "scrolled": true
   },
   "outputs": [
    {
     "data": {
      "text/plain": [
       "DatetimeIndex(['2012-04-01', '2012-04-02', '2012-04-03', '2012-04-04',\n",
       "               '2012-04-05', '2012-04-06', '2012-04-07', '2012-04-08',\n",
       "               '2012-04-09', '2012-04-10', '2012-04-11', '2012-04-12',\n",
       "               '2012-04-13', '2012-04-14', '2012-04-15', '2012-04-16',\n",
       "               '2012-04-17', '2012-04-18', '2012-04-19', '2012-04-20'],\n",
       "              dtype='datetime64[ns]', freq='D')"
      ]
     },
     "execution_count": 59,
     "metadata": {},
     "output_type": "execute_result"
    }
   ],
   "source": [
    "pd.date_range(start='2012-04-01',periods=20)"
   ]
  },
  {
   "cell_type": "code",
   "execution_count": 60,
   "id": "b0764a11",
   "metadata": {},
   "outputs": [
    {
     "data": {
      "text/plain": [
       "DatetimeIndex(['2020-03-13', '2020-03-14', '2020-03-15', '2020-03-16',\n",
       "               '2020-03-17', '2020-03-18', '2020-03-19', '2020-03-20',\n",
       "               '2020-03-21', '2020-03-22', '2020-03-23', '2020-03-24',\n",
       "               '2020-03-25', '2020-03-26', '2020-03-27', '2020-03-28',\n",
       "               '2020-03-29', '2020-03-30', '2020-03-31', '2020-04-01'],\n",
       "              dtype='datetime64[ns]', freq='D')"
      ]
     },
     "execution_count": 60,
     "metadata": {},
     "output_type": "execute_result"
    }
   ],
   "source": [
    "pd.date_range(end='2020-04-01',periods=20)"
   ]
  },
  {
   "cell_type": "code",
   "execution_count": 61,
   "id": "2c24318e",
   "metadata": {},
   "outputs": [
    {
     "data": {
      "text/plain": [
       "DatetimeIndex(['2000-01-31', '2000-02-29', '2000-03-31', '2000-04-28',\n",
       "               '2000-05-31', '2000-06-30', '2000-07-31', '2000-08-31',\n",
       "               '2000-09-29', '2000-10-31', '2000-11-30'],\n",
       "              dtype='datetime64[ns]', freq='BM')"
      ]
     },
     "execution_count": 61,
     "metadata": {},
     "output_type": "execute_result"
    }
   ],
   "source": [
    "pd.date_range('2000-01-01','2000-12-01',freq='BM')#busniss month"
   ]
  },
  {
   "cell_type": "code",
   "execution_count": 62,
   "id": "e3285be6",
   "metadata": {},
   "outputs": [
    {
     "data": {
      "text/plain": [
       "DatetimeIndex(['2000-03-31', '2000-06-30', '2000-09-30'], dtype='datetime64[ns]', freq='Q-DEC')"
      ]
     },
     "execution_count": 62,
     "metadata": {},
     "output_type": "execute_result"
    }
   ],
   "source": [
    "pd.date_range('2000-01-01','2000-12-01',freq='Q')"
   ]
  },
  {
   "cell_type": "code",
   "execution_count": 63,
   "id": "11741503",
   "metadata": {},
   "outputs": [
    {
     "data": {
      "text/plain": [
       "DatetimeIndex([], dtype='datetime64[ns]', freq='A-DEC')"
      ]
     },
     "execution_count": 63,
     "metadata": {},
     "output_type": "execute_result"
    }
   ],
   "source": [
    "pd.date_range('2000-01-01','2000-12-01',freq='Y')"
   ]
  },
  {
   "cell_type": "code",
   "execution_count": 64,
   "id": "1013778e",
   "metadata": {},
   "outputs": [
    {
     "data": {
      "text/plain": [
       "DatetimeIndex(['2000-01-01 00:00:00', '2000-01-01 05:00:00',\n",
       "               '2000-01-01 10:00:00', '2000-01-01 15:00:00',\n",
       "               '2000-01-01 20:00:00', '2000-01-02 01:00:00',\n",
       "               '2000-01-02 06:00:00', '2000-01-02 11:00:00',\n",
       "               '2000-01-02 16:00:00', '2000-01-02 21:00:00',\n",
       "               ...\n",
       "               '2000-01-29 03:00:00', '2000-01-29 08:00:00',\n",
       "               '2000-01-29 13:00:00', '2000-01-29 18:00:00',\n",
       "               '2000-01-29 23:00:00', '2000-01-30 04:00:00',\n",
       "               '2000-01-30 09:00:00', '2000-01-30 14:00:00',\n",
       "               '2000-01-30 19:00:00', '2000-01-31 00:00:00'],\n",
       "              dtype='datetime64[ns]', length=145, freq='5H')"
      ]
     },
     "execution_count": 64,
     "metadata": {},
     "output_type": "execute_result"
    }
   ],
   "source": [
    "pd.date_range('2000-01-01','2000-01-31',freq='5H')"
   ]
  },
  {
   "cell_type": "code",
   "execution_count": 65,
   "id": "26c10985",
   "metadata": {},
   "outputs": [
    {
     "data": {
      "text/plain": [
       "DatetimeIndex(['2012-05-02 12:56:31', '2012-05-03 12:56:31',\n",
       "               '2012-05-04 12:56:31', '2012-05-05 12:56:31',\n",
       "               '2012-05-06 12:56:31'],\n",
       "              dtype='datetime64[ns]', freq='D')"
      ]
     },
     "execution_count": 65,
     "metadata": {},
     "output_type": "execute_result"
    }
   ],
   "source": [
    "pd.date_range('2012-05-02 12:56:31',periods=5)"
   ]
  },
  {
   "cell_type": "code",
   "execution_count": 66,
   "id": "a28fe402",
   "metadata": {},
   "outputs": [
    {
     "data": {
      "text/plain": [
       "DatetimeIndex(['2012-05-02', '2012-05-03', '2012-05-04', '2012-05-05',\n",
       "               '2012-05-06'],\n",
       "              dtype='datetime64[ns]', freq='D')"
      ]
     },
     "execution_count": 66,
     "metadata": {},
     "output_type": "execute_result"
    }
   ],
   "source": [
    "pd.date_range('2012-05-02 12:56:31',periods=5,normalize=True)"
   ]
  },
  {
   "cell_type": "markdown",
   "id": "f839dd1a",
   "metadata": {},
   "source": [
    "#### frequencies and date offsets"
   ]
  },
  {
   "cell_type": "code",
   "execution_count": 67,
   "id": "0bafb404",
   "metadata": {},
   "outputs": [],
   "source": [
    "#arithmetic---calculated by days-year and seconds-minutes"
   ]
  },
  {
   "cell_type": "code",
   "execution_count": 68,
   "id": "bfe7e25f",
   "metadata": {},
   "outputs": [
    {
     "data": {
      "text/plain": [
       "<Hour>"
      ]
     },
     "execution_count": 68,
     "metadata": {},
     "output_type": "execute_result"
    }
   ],
   "source": [
    "from pandas.tseries.offsets import Hour,Minute#offsets-add or sub time\n",
    "hour=Hour()\n",
    "hour"
   ]
  },
  {
   "cell_type": "code",
   "execution_count": 69,
   "id": "74516c51",
   "metadata": {},
   "outputs": [
    {
     "data": {
      "text/plain": [
       "<4 * Hours>"
      ]
     },
     "execution_count": 69,
     "metadata": {},
     "output_type": "execute_result"
    }
   ],
   "source": [
    "four_hours=Hour(4)\n",
    "four_hours"
   ]
  },
  {
   "cell_type": "code",
   "execution_count": 70,
   "id": "3f5b1656",
   "metadata": {},
   "outputs": [
    {
     "data": {
      "text/plain": [
       "DatetimeIndex(['2000-01-01 00:00:00', '2000-01-01 16:00:00',\n",
       "               '2000-01-02 08:00:00', '2000-01-03 00:00:00',\n",
       "               '2000-01-03 16:00:00'],\n",
       "              dtype='datetime64[ns]', freq='16H')"
      ]
     },
     "execution_count": 70,
     "metadata": {},
     "output_type": "execute_result"
    }
   ],
   "source": [
    "pd.date_range('2000-01-01','2000-01-03 23:59',freq='16h')"
   ]
  },
  {
   "cell_type": "code",
   "execution_count": 71,
   "id": "6cc2eecd",
   "metadata": {},
   "outputs": [
    {
     "data": {
      "text/plain": [
       "<150 * Minutes>"
      ]
     },
     "execution_count": 71,
     "metadata": {},
     "output_type": "execute_result"
    }
   ],
   "source": [
    "Hour(2)+Minute(30)"
   ]
  },
  {
   "cell_type": "code",
   "execution_count": 72,
   "id": "36708bbd",
   "metadata": {},
   "outputs": [
    {
     "data": {
      "text/plain": [
       "DatetimeIndex(['2000-01-01 00:00:00', '2000-01-01 01:30:00',\n",
       "               '2000-01-01 03:00:00', '2000-01-01 04:30:00',\n",
       "               '2000-01-01 06:00:00', '2000-01-01 07:30:00',\n",
       "               '2000-01-01 09:00:00', '2000-01-01 10:30:00',\n",
       "               '2000-01-01 12:00:00', '2000-01-01 13:30:00'],\n",
       "              dtype='datetime64[ns]', freq='90T')"
      ]
     },
     "execution_count": 72,
     "metadata": {},
     "output_type": "execute_result"
    }
   ],
   "source": [
    "pd.date_range('2000-01-01',periods=10,freq='1h30min')"
   ]
  },
  {
   "cell_type": "markdown",
   "id": "27bd49cc",
   "metadata": {},
   "source": [
    "### **week of month dates"
   ]
  },
  {
   "cell_type": "code",
   "execution_count": 73,
   "id": "512465fb",
   "metadata": {},
   "outputs": [
    {
     "data": {
      "text/plain": [
       "[Timestamp('2012-01-20 00:00:00', freq='WOM-3FRI'),\n",
       " Timestamp('2012-02-17 00:00:00', freq='WOM-3FRI'),\n",
       " Timestamp('2012-03-16 00:00:00', freq='WOM-3FRI'),\n",
       " Timestamp('2012-04-20 00:00:00', freq='WOM-3FRI'),\n",
       " Timestamp('2012-05-18 00:00:00', freq='WOM-3FRI'),\n",
       " Timestamp('2012-06-15 00:00:00', freq='WOM-3FRI'),\n",
       " Timestamp('2012-07-20 00:00:00', freq='WOM-3FRI'),\n",
       " Timestamp('2012-08-17 00:00:00', freq='WOM-3FRI')]"
      ]
     },
     "execution_count": 73,
     "metadata": {},
     "output_type": "execute_result"
    }
   ],
   "source": [
    "rng=pd.date_range('2012-01-01','2012-09-01',freq='WOM-3FRI')#regular\n",
    "list(rng)"
   ]
  },
  {
   "cell_type": "markdown",
   "id": "6d25f6ba",
   "metadata": {},
   "source": [
    "### 20-03-23"
   ]
  },
  {
   "cell_type": "markdown",
   "id": "0ad8f0be",
   "metadata": {},
   "source": [
    "#### Shifting (leading and lagging) data"
   ]
  },
  {
   "cell_type": "code",
   "execution_count": 74,
   "id": "9adca1a9",
   "metadata": {},
   "outputs": [
    {
     "data": {
      "text/plain": [
       "2000-01-31    0.868404\n",
       "2000-02-29    0.786549\n",
       "2000-03-31    0.910115\n",
       "2000-04-30    0.598220\n",
       "Freq: M, dtype: float64"
      ]
     },
     "execution_count": 74,
     "metadata": {},
     "output_type": "execute_result"
    }
   ],
   "source": [
    "ts=pd.Series(np.random.rand(4),\n",
    "            index=pd.date_range('1/1/2000',periods=4,freq='M'))\n",
    "ts"
   ]
  },
  {
   "cell_type": "code",
   "execution_count": 75,
   "id": "d6d46b4a",
   "metadata": {},
   "outputs": [
    {
     "data": {
      "text/plain": [
       "2000-01-31         NaN\n",
       "2000-02-29         NaN\n",
       "2000-03-31    0.868404\n",
       "2000-04-30    0.786549\n",
       "Freq: M, dtype: float64"
      ]
     },
     "execution_count": 75,
     "metadata": {},
     "output_type": "execute_result"
    }
   ],
   "source": [
    "ts.shift(2)#forward shifting"
   ]
  },
  {
   "cell_type": "code",
   "execution_count": 76,
   "id": "812d6e31",
   "metadata": {},
   "outputs": [
    {
     "data": {
      "text/plain": [
       "2000-01-31    0.910115\n",
       "2000-02-29    0.598220\n",
       "2000-03-31         NaN\n",
       "2000-04-30         NaN\n",
       "Freq: M, dtype: float64"
      ]
     },
     "execution_count": 76,
     "metadata": {},
     "output_type": "execute_result"
    }
   ],
   "source": [
    "ts.shift(-2)#backward shifting#reverse"
   ]
  },
  {
   "cell_type": "code",
   "execution_count": 77,
   "id": "76a542fa",
   "metadata": {},
   "outputs": [
    {
     "data": {
      "text/plain": [
       "2000-01-31    0.786549\n",
       "2000-02-29    0.910115\n",
       "2000-03-31    0.598220\n",
       "2000-04-30         NaN\n",
       "Freq: M, dtype: float64"
      ]
     },
     "execution_count": 77,
     "metadata": {},
     "output_type": "execute_result"
    }
   ],
   "source": [
    "ts.shift(-1)"
   ]
  },
  {
   "cell_type": "code",
   "execution_count": 78,
   "id": "3e160bd8",
   "metadata": {},
   "outputs": [
    {
     "data": {
      "text/plain": [
       "2000-01-31         NaN\n",
       "2000-02-29    0.868404\n",
       "2000-03-31    0.786549\n",
       "2000-04-30    0.910115\n",
       "Freq: M, dtype: float64"
      ]
     },
     "execution_count": 78,
     "metadata": {},
     "output_type": "execute_result"
    }
   ],
   "source": [
    "ts.shift(1)"
   ]
  },
  {
   "cell_type": "code",
   "execution_count": 79,
   "id": "3815d43a",
   "metadata": {},
   "outputs": [
    {
     "data": {
      "text/plain": [
       "2000-01-31         NaN\n",
       "2000-02-29   -0.131596\n",
       "2000-03-31   -0.213451\n",
       "2000-04-30   -0.089885\n",
       "Freq: M, dtype: float64"
      ]
     },
     "execution_count": 79,
     "metadata": {},
     "output_type": "execute_result"
    }
   ],
   "source": [
    "ts.shift(1)-1"
   ]
  },
  {
   "cell_type": "code",
   "execution_count": 80,
   "id": "8eac7a69",
   "metadata": {},
   "outputs": [
    {
     "data": {
      "text/plain": [
       "2000-01-31         NaN\n",
       "2000-02-29    1.868404\n",
       "2000-03-31    1.786549\n",
       "2000-04-30    1.910115\n",
       "Freq: M, dtype: float64"
      ]
     },
     "execution_count": 80,
     "metadata": {},
     "output_type": "execute_result"
    }
   ],
   "source": [
    "ts.shift(1)+1"
   ]
  },
  {
   "cell_type": "code",
   "execution_count": 81,
   "id": "90c45ed1",
   "metadata": {},
   "outputs": [
    {
     "data": {
      "text/plain": [
       "2000-01-31         NaN\n",
       "2000-02-29    1.905742\n",
       "2000-03-31    2.157098\n",
       "2000-04-30    1.657302\n",
       "Freq: M, dtype: float64"
      ]
     },
     "execution_count": 81,
     "metadata": {},
     "output_type": "execute_result"
    }
   ],
   "source": [
    "ts/ts.shift(1)+1"
   ]
  },
  {
   "cell_type": "code",
   "execution_count": 82,
   "id": "9a7b50e7",
   "metadata": {},
   "outputs": [
    {
     "data": {
      "text/plain": [
       "2000-03-31    0.868404\n",
       "2000-04-30    0.786549\n",
       "2000-05-31    0.910115\n",
       "2000-06-30    0.598220\n",
       "Freq: M, dtype: float64"
      ]
     },
     "execution_count": 82,
     "metadata": {},
     "output_type": "execute_result"
    }
   ],
   "source": [
    "ts.shift(2,freq='M')#shift the date(index)"
   ]
  },
  {
   "cell_type": "code",
   "execution_count": 83,
   "id": "6aea75c3",
   "metadata": {},
   "outputs": [
    {
     "data": {
      "text/plain": [
       "2000-02-29    0.868404\n",
       "2000-03-31    0.786549\n",
       "2000-04-30    0.910115\n",
       "2000-05-31    0.598220\n",
       "Freq: M, dtype: float64"
      ]
     },
     "execution_count": 83,
     "metadata": {},
     "output_type": "execute_result"
    }
   ],
   "source": [
    "ts.shift(1,freq='M')"
   ]
  },
  {
   "cell_type": "code",
   "execution_count": 84,
   "id": "45ffecf1",
   "metadata": {},
   "outputs": [
    {
     "data": {
      "text/plain": [
       "2000-02-03    0.868404\n",
       "2000-03-03    0.786549\n",
       "2000-04-03    0.910115\n",
       "2000-05-03    0.598220\n",
       "dtype: float64"
      ]
     },
     "execution_count": 84,
     "metadata": {},
     "output_type": "execute_result"
    }
   ],
   "source": [
    " ts.shift(3,freq='D')"
   ]
  },
  {
   "cell_type": "code",
   "execution_count": 85,
   "id": "dc9b4597",
   "metadata": {},
   "outputs": [
    {
     "data": {
      "text/plain": [
       "2000-01-31 01:30:00    0.868404\n",
       "2000-02-29 01:30:00    0.786549\n",
       "2000-03-31 01:30:00    0.910115\n",
       "2000-04-30 01:30:00    0.598220\n",
       "dtype: float64"
      ]
     },
     "execution_count": 85,
     "metadata": {},
     "output_type": "execute_result"
    }
   ],
   "source": [
    "ts.shift(1,freq='90T')#T- time---minutes(90)#one and half hrs"
   ]
  },
  {
   "cell_type": "markdown",
   "id": "2931c201",
   "metadata": {},
   "source": [
    "#### shifting dates with offsets"
   ]
  },
  {
   "cell_type": "code",
   "execution_count": 87,
   "id": "8e06d9c0",
   "metadata": {},
   "outputs": [],
   "source": [
    "from pandas.tseries.offsets import Day,MonthEnd"
   ]
  },
  {
   "cell_type": "code",
   "execution_count": 88,
   "id": "e6e73cb3",
   "metadata": {},
   "outputs": [
    {
     "data": {
      "text/plain": [
       "datetime.datetime(2011, 11, 17, 0, 0)"
      ]
     },
     "execution_count": 88,
     "metadata": {},
     "output_type": "execute_result"
    }
   ],
   "source": [
    "now=datetime(2011,11,17)\n",
    "now"
   ]
  },
  {
   "cell_type": "code",
   "execution_count": 89,
   "id": "ee880565",
   "metadata": {},
   "outputs": [
    {
     "data": {
      "text/plain": [
       "Timestamp('2011-11-20 00:00:00')"
      ]
     },
     "execution_count": 89,
     "metadata": {},
     "output_type": "execute_result"
    }
   ],
   "source": [
    "now+3*Day()"
   ]
  },
  {
   "cell_type": "code",
   "execution_count": 90,
   "id": "f4b923be",
   "metadata": {},
   "outputs": [
    {
     "data": {
      "text/plain": [
       "Timestamp('2011-11-30 00:00:00')"
      ]
     },
     "execution_count": 90,
     "metadata": {},
     "output_type": "execute_result"
    }
   ],
   "source": [
    "now+MonthEnd()"
   ]
  },
  {
   "cell_type": "code",
   "execution_count": 91,
   "id": "72caf5b7",
   "metadata": {},
   "outputs": [
    {
     "data": {
      "text/plain": [
       "Timestamp('2011-12-31 00:00:00')"
      ]
     },
     "execution_count": 91,
     "metadata": {},
     "output_type": "execute_result"
    }
   ],
   "source": [
    "now+MonthEnd(2)"
   ]
  },
  {
   "cell_type": "code",
   "execution_count": 92,
   "id": "54e8504e",
   "metadata": {},
   "outputs": [
    {
     "data": {
      "text/plain": [
       "Timestamp('2012-01-31 00:00:00')"
      ]
     },
     "execution_count": 92,
     "metadata": {},
     "output_type": "execute_result"
    }
   ],
   "source": [
    "now+MonthEnd(3)"
   ]
  },
  {
   "cell_type": "code",
   "execution_count": 93,
   "id": "27420d92",
   "metadata": {},
   "outputs": [
    {
     "data": {
      "text/plain": [
       "<MonthEnd>"
      ]
     },
     "execution_count": 93,
     "metadata": {},
     "output_type": "execute_result"
    }
   ],
   "source": [
    "offset=MonthEnd()\n",
    "offset"
   ]
  },
  {
   "cell_type": "code",
   "execution_count": 94,
   "id": "ea507195",
   "metadata": {},
   "outputs": [
    {
     "data": {
      "text/plain": [
       "Timestamp('2011-11-30 00:00:00')"
      ]
     },
     "execution_count": 94,
     "metadata": {},
     "output_type": "execute_result"
    }
   ],
   "source": [
    "offset.rollforward(now)"
   ]
  },
  {
   "cell_type": "code",
   "execution_count": 95,
   "id": "ba727806",
   "metadata": {},
   "outputs": [
    {
     "data": {
      "text/plain": [
       "Timestamp('2011-10-31 00:00:00')"
      ]
     },
     "execution_count": 95,
     "metadata": {},
     "output_type": "execute_result"
    }
   ],
   "source": [
    "offset.rollback(now)"
   ]
  },
  {
   "cell_type": "code",
   "execution_count": 96,
   "id": "e3bce707",
   "metadata": {},
   "outputs": [
    {
     "data": {
      "text/plain": [
       "2000-01-15   -0.906806\n",
       "2000-01-19   -0.370118\n",
       "2000-01-23   -0.935061\n",
       "2000-01-27   -0.943501\n",
       "2000-01-31   -1.272342\n",
       "2000-02-04   -0.959784\n",
       "2000-02-08   -1.578899\n",
       "2000-02-12   -0.071346\n",
       "2000-02-16   -0.327285\n",
       "2000-02-20   -0.094986\n",
       "2000-02-24   -0.945006\n",
       "2000-02-28   -0.517706\n",
       "2000-03-03    0.799238\n",
       "2000-03-07   -0.011088\n",
       "2000-03-11    0.552326\n",
       "2000-03-15   -1.518044\n",
       "2000-03-19   -1.665430\n",
       "2000-03-23    0.381823\n",
       "2000-03-27    0.759895\n",
       "2000-03-31    0.539865\n",
       "Freq: 4D, dtype: float64"
      ]
     },
     "execution_count": 96,
     "metadata": {},
     "output_type": "execute_result"
    }
   ],
   "source": [
    "ts=pd.Series(np.random.randn(20),\n",
    "            index=pd.date_range('1/15/2000',periods=20,freq='4d'))\n",
    "ts"
   ]
  },
  {
   "cell_type": "code",
   "execution_count": 97,
   "id": "b76fe559",
   "metadata": {},
   "outputs": [
    {
     "data": {
      "text/plain": [
       "2000-01-31   -0.885566\n",
       "2000-02-29   -0.642144\n",
       "2000-03-31   -0.020177\n",
       "dtype: float64"
      ]
     },
     "execution_count": 97,
     "metadata": {},
     "output_type": "execute_result"
    }
   ],
   "source": [
    "ts.groupby(offset.rollforward).mean()#month"
   ]
  },
  {
   "cell_type": "code",
   "execution_count": 98,
   "id": "cb8f66e5",
   "metadata": {},
   "outputs": [
    {
     "data": {
      "text/plain": [
       "2000-01-31   -0.885566\n",
       "2000-02-29   -0.642144\n",
       "2000-03-31   -0.020177\n",
       "Freq: M, dtype: float64"
      ]
     },
     "execution_count": 98,
     "metadata": {},
     "output_type": "execute_result"
    }
   ],
   "source": [
    "ts.resample('M').mean()"
   ]
  },
  {
   "cell_type": "code",
   "execution_count": 99,
   "id": "1e3b6cd9",
   "metadata": {},
   "outputs": [
    {
     "data": {
      "text/plain": [
       "2000-12-31   -0.454213\n",
       "Freq: A-DEC, dtype: float64"
      ]
     },
     "execution_count": 99,
     "metadata": {},
     "output_type": "execute_result"
    }
   ],
   "source": [
    "ts.resample('Y').mean()"
   ]
  },
  {
   "cell_type": "code",
   "execution_count": 100,
   "id": "7f753a09",
   "metadata": {},
   "outputs": [
    {
     "data": {
      "text/plain": [
       "2000-03-31   -0.454213\n",
       "Freq: Q-DEC, dtype: float64"
      ]
     },
     "execution_count": 100,
     "metadata": {},
     "output_type": "execute_result"
    }
   ],
   "source": [
    "ts.resample('Q').mean()"
   ]
  },
  {
   "cell_type": "markdown",
   "id": "42d10017",
   "metadata": {},
   "source": [
    "#### 27-3-23"
   ]
  },
  {
   "cell_type": "code",
   "execution_count": null,
   "id": "febe4216",
   "metadata": {},
   "outputs": [],
   "source": []
  }
 ],
 "metadata": {
  "kernelspec": {
   "display_name": "Python 3 (ipykernel)",
   "language": "python",
   "name": "python3"
  },
  "language_info": {
   "codemirror_mode": {
    "name": "ipython",
    "version": 3
   },
   "file_extension": ".py",
   "mimetype": "text/x-python",
   "name": "python",
   "nbconvert_exporter": "python",
   "pygments_lexer": "ipython3",
   "version": "3.9.13"
  }
 },
 "nbformat": 4,
 "nbformat_minor": 5
}
